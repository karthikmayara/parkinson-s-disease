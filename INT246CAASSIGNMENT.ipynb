{
 "cells": [
  {
   "cell_type": "code",
   "execution_count": 1,
   "id": "df126247",
   "metadata": {},
   "outputs": [],
   "source": [
    "import numpy as np\n",
    "import pandas as pd\n",
    "import matplotlib.pyplot as plt"
   ]
  },
  {
   "cell_type": "code",
   "execution_count": 2,
   "id": "6dca470f",
   "metadata": {},
   "outputs": [],
   "source": [
    "park=pd.read_csv(\"C:\\\\Users\\\\Dell\\\\Downloads\\\\parkinsons.csv\")"
   ]
  },
  {
   "cell_type": "code",
   "execution_count": 3,
   "id": "6bfa01ac",
   "metadata": {},
   "outputs": [
    {
     "data": {
      "text/html": [
       "<div>\n",
       "<style scoped>\n",
       "    .dataframe tbody tr th:only-of-type {\n",
       "        vertical-align: middle;\n",
       "    }\n",
       "\n",
       "    .dataframe tbody tr th {\n",
       "        vertical-align: top;\n",
       "    }\n",
       "\n",
       "    .dataframe thead th {\n",
       "        text-align: right;\n",
       "    }\n",
       "</style>\n",
       "<table border=\"1\" class=\"dataframe\">\n",
       "  <thead>\n",
       "    <tr style=\"text-align: right;\">\n",
       "      <th></th>\n",
       "      <th>name</th>\n",
       "      <th>MDVP:Fo(Hz)</th>\n",
       "      <th>MDVP:Fhi(Hz)</th>\n",
       "      <th>MDVP:Flo(Hz)</th>\n",
       "      <th>MDVP:Jitter(%)</th>\n",
       "      <th>MDVP:Jitter(Abs)</th>\n",
       "      <th>MDVP:RAP</th>\n",
       "      <th>MDVP:PPQ</th>\n",
       "      <th>Jitter:DDP</th>\n",
       "      <th>MDVP:Shimmer</th>\n",
       "      <th>...</th>\n",
       "      <th>Shimmer:DDA</th>\n",
       "      <th>NHR</th>\n",
       "      <th>HNR</th>\n",
       "      <th>status</th>\n",
       "      <th>RPDE</th>\n",
       "      <th>DFA</th>\n",
       "      <th>spread1</th>\n",
       "      <th>spread2</th>\n",
       "      <th>D2</th>\n",
       "      <th>PPE</th>\n",
       "    </tr>\n",
       "  </thead>\n",
       "  <tbody>\n",
       "    <tr>\n",
       "      <th>0</th>\n",
       "      <td>1</td>\n",
       "      <td>119.992</td>\n",
       "      <td>157.302</td>\n",
       "      <td>74.997</td>\n",
       "      <td>0.00784</td>\n",
       "      <td>0.00007</td>\n",
       "      <td>0.00370</td>\n",
       "      <td>0.00554</td>\n",
       "      <td>0.01109</td>\n",
       "      <td>0.04374</td>\n",
       "      <td>...</td>\n",
       "      <td>0.06545</td>\n",
       "      <td>0.02211</td>\n",
       "      <td>21.033</td>\n",
       "      <td>1</td>\n",
       "      <td>0.414783</td>\n",
       "      <td>0.815285</td>\n",
       "      <td>-4.813031</td>\n",
       "      <td>0.266482</td>\n",
       "      <td>2.301442</td>\n",
       "      <td>0.284654</td>\n",
       "    </tr>\n",
       "    <tr>\n",
       "      <th>1</th>\n",
       "      <td>2</td>\n",
       "      <td>122.400</td>\n",
       "      <td>148.650</td>\n",
       "      <td>113.819</td>\n",
       "      <td>0.00968</td>\n",
       "      <td>0.00008</td>\n",
       "      <td>0.00465</td>\n",
       "      <td>0.00696</td>\n",
       "      <td>0.01394</td>\n",
       "      <td>0.06134</td>\n",
       "      <td>...</td>\n",
       "      <td>0.09403</td>\n",
       "      <td>0.01929</td>\n",
       "      <td>19.085</td>\n",
       "      <td>1</td>\n",
       "      <td>0.458359</td>\n",
       "      <td>0.819521</td>\n",
       "      <td>-4.075192</td>\n",
       "      <td>0.335590</td>\n",
       "      <td>2.486855</td>\n",
       "      <td>0.368674</td>\n",
       "    </tr>\n",
       "    <tr>\n",
       "      <th>2</th>\n",
       "      <td>3</td>\n",
       "      <td>116.682</td>\n",
       "      <td>131.111</td>\n",
       "      <td>111.555</td>\n",
       "      <td>0.01050</td>\n",
       "      <td>0.00009</td>\n",
       "      <td>0.00544</td>\n",
       "      <td>0.00781</td>\n",
       "      <td>0.01633</td>\n",
       "      <td>0.05233</td>\n",
       "      <td>...</td>\n",
       "      <td>0.08270</td>\n",
       "      <td>0.01309</td>\n",
       "      <td>20.651</td>\n",
       "      <td>1</td>\n",
       "      <td>0.429895</td>\n",
       "      <td>0.825288</td>\n",
       "      <td>-4.443179</td>\n",
       "      <td>0.311173</td>\n",
       "      <td>2.342259</td>\n",
       "      <td>0.332634</td>\n",
       "    </tr>\n",
       "    <tr>\n",
       "      <th>3</th>\n",
       "      <td>4</td>\n",
       "      <td>116.676</td>\n",
       "      <td>137.871</td>\n",
       "      <td>111.366</td>\n",
       "      <td>0.00997</td>\n",
       "      <td>0.00009</td>\n",
       "      <td>0.00502</td>\n",
       "      <td>0.00698</td>\n",
       "      <td>0.01505</td>\n",
       "      <td>0.05492</td>\n",
       "      <td>...</td>\n",
       "      <td>0.08771</td>\n",
       "      <td>0.01353</td>\n",
       "      <td>20.644</td>\n",
       "      <td>1</td>\n",
       "      <td>0.434969</td>\n",
       "      <td>0.819235</td>\n",
       "      <td>-4.117501</td>\n",
       "      <td>0.334147</td>\n",
       "      <td>2.405554</td>\n",
       "      <td>0.368975</td>\n",
       "    </tr>\n",
       "    <tr>\n",
       "      <th>4</th>\n",
       "      <td>5</td>\n",
       "      <td>116.014</td>\n",
       "      <td>141.781</td>\n",
       "      <td>110.655</td>\n",
       "      <td>0.01284</td>\n",
       "      <td>0.00011</td>\n",
       "      <td>0.00655</td>\n",
       "      <td>0.00908</td>\n",
       "      <td>0.01966</td>\n",
       "      <td>0.06425</td>\n",
       "      <td>...</td>\n",
       "      <td>0.10470</td>\n",
       "      <td>0.01767</td>\n",
       "      <td>19.649</td>\n",
       "      <td>1</td>\n",
       "      <td>0.417356</td>\n",
       "      <td>0.823484</td>\n",
       "      <td>-3.747787</td>\n",
       "      <td>0.234513</td>\n",
       "      <td>2.332180</td>\n",
       "      <td>0.410335</td>\n",
       "    </tr>\n",
       "  </tbody>\n",
       "</table>\n",
       "<p>5 rows × 24 columns</p>\n",
       "</div>"
      ],
      "text/plain": [
       "   name  MDVP:Fo(Hz)  MDVP:Fhi(Hz)  MDVP:Flo(Hz)  MDVP:Jitter(%)  \\\n",
       "0     1      119.992       157.302        74.997         0.00784   \n",
       "1     2      122.400       148.650       113.819         0.00968   \n",
       "2     3      116.682       131.111       111.555         0.01050   \n",
       "3     4      116.676       137.871       111.366         0.00997   \n",
       "4     5      116.014       141.781       110.655         0.01284   \n",
       "\n",
       "   MDVP:Jitter(Abs)  MDVP:RAP  MDVP:PPQ  Jitter:DDP  MDVP:Shimmer  ...  \\\n",
       "0           0.00007   0.00370   0.00554     0.01109       0.04374  ...   \n",
       "1           0.00008   0.00465   0.00696     0.01394       0.06134  ...   \n",
       "2           0.00009   0.00544   0.00781     0.01633       0.05233  ...   \n",
       "3           0.00009   0.00502   0.00698     0.01505       0.05492  ...   \n",
       "4           0.00011   0.00655   0.00908     0.01966       0.06425  ...   \n",
       "\n",
       "   Shimmer:DDA      NHR     HNR  status      RPDE       DFA   spread1  \\\n",
       "0      0.06545  0.02211  21.033       1  0.414783  0.815285 -4.813031   \n",
       "1      0.09403  0.01929  19.085       1  0.458359  0.819521 -4.075192   \n",
       "2      0.08270  0.01309  20.651       1  0.429895  0.825288 -4.443179   \n",
       "3      0.08771  0.01353  20.644       1  0.434969  0.819235 -4.117501   \n",
       "4      0.10470  0.01767  19.649       1  0.417356  0.823484 -3.747787   \n",
       "\n",
       "    spread2        D2       PPE  \n",
       "0  0.266482  2.301442  0.284654  \n",
       "1  0.335590  2.486855  0.368674  \n",
       "2  0.311173  2.342259  0.332634  \n",
       "3  0.334147  2.405554  0.368975  \n",
       "4  0.234513  2.332180  0.410335  \n",
       "\n",
       "[5 rows x 24 columns]"
      ]
     },
     "execution_count": 3,
     "metadata": {},
     "output_type": "execute_result"
    }
   ],
   "source": [
    "park.head()"
   ]
  },
  {
   "cell_type": "code",
   "execution_count": 4,
   "id": "bd1fab8f",
   "metadata": {},
   "outputs": [
    {
     "data": {
      "text/plain": [
       "(195, 24)"
      ]
     },
     "execution_count": 4,
     "metadata": {},
     "output_type": "execute_result"
    }
   ],
   "source": [
    "park.shape"
   ]
  },
  {
   "cell_type": "code",
   "execution_count": 5,
   "id": "68ce374f",
   "metadata": {},
   "outputs": [
    {
     "data": {
      "text/plain": [
       "0"
      ]
     },
     "execution_count": 5,
     "metadata": {},
     "output_type": "execute_result"
    }
   ],
   "source": [
    "park.isna().sum().sum()"
   ]
  },
  {
   "cell_type": "markdown",
   "id": "a80e8a50",
   "metadata": {},
   "source": [
    "PERCEPTRON ON PARKINSON"
   ]
  },
  {
   "cell_type": "code",
   "execution_count": 6,
   "id": "04e2f673",
   "metadata": {},
   "outputs": [
    {
     "name": "stdout",
     "output_type": "stream",
     "text": [
      "Epoch is  1\n",
      "Input is  [119.992 157.302]  Target is  [1.]\n",
      "Output is  0 error is  [1.]\n",
      "weights and bias  [59.996 78.651  0.5  ]\n",
      "Input is  [122.4  148.65]  Target is  [1.]\n",
      "Output is  1 error is  [0.]\n",
      "weights and bias  [59.996 78.651  0.5  ]\n",
      "Input is  [197.076 206.896]  Target is  [0.]\n",
      "Output is  1 error is  [-1.]\n",
      "weights and bias  [59.996 78.651  0.5  ]\n",
      "Input is  [116.676 137.871]  Target is  [1.]\n",
      "Output is  1 error is  [0.]\n",
      "weights and bias  [59.996 78.651  0.5  ]\n",
      "---------------------------------------\n"
     ]
    }
   ],
   "source": [
    "x=np.array([[119.992,157.302],[122.4,148.65],[197.076,206.896],[116.676,137.871]],dtype=np.float32)\n",
    "y=np.array([[1],[1],[0],[1]],dtype=np.float32)\n",
    "w=np.array([0,0,0],dtype=np.float32) # first two elements are w1 and w2 and 3rd is bias\n",
    "for j in range(1):\n",
    "    print(\"Epoch is \",j+1)\n",
    "    for i in range(x.shape[0]):\n",
    "        print(\"Input is \",x[i,:],\" Target is \",y[i,:])\n",
    "        s=np.dot(x[i,:],w[0:2])+w[2]\n",
    "        if(s>=1):\n",
    "            out=1\n",
    "        else:\n",
    "            out=0\n",
    "        print(\"Output is \",out, \"error is \",y[i,:]-out)\n",
    "        if(y[i,:]!=out):\n",
    "            w[0:2]+=0.5*x[i,:]*y[i,:]\n",
    "            w[2]+=0.5*y[i,:]\n",
    "        print(\"weights and bias \",w)\n",
    "    print(\"---------------------------------------\")"
   ]
  },
  {
   "cell_type": "markdown",
   "id": "1a8bc222",
   "metadata": {},
   "source": [
    "SVM ON PARKINSON"
   ]
  },
  {
   "cell_type": "code",
   "execution_count": 7,
   "id": "4d5dede7",
   "metadata": {},
   "outputs": [],
   "source": [
    "from sklearn.svm import SVC\n",
    "from sklearn.model_selection import train_test_split"
   ]
  },
  {
   "cell_type": "code",
   "execution_count": 8,
   "id": "3268715e",
   "metadata": {},
   "outputs": [],
   "source": [
    "X = park.drop(['status'], axis=1) #features (independent variables)\n",
    "y = park['status'] #target (dependent variable)"
   ]
  },
  {
   "cell_type": "code",
   "execution_count": 9,
   "id": "c1fd5421",
   "metadata": {},
   "outputs": [],
   "source": [
    "X_train, X_test, y_train, y_test = train_test_split(X, y, test_size = 0.3)"
   ]
  },
  {
   "cell_type": "code",
   "execution_count": 10,
   "id": "7d00cba1",
   "metadata": {},
   "outputs": [
    {
     "name": "stdout",
     "output_type": "stream",
     "text": [
      "(136, 23) (136,)\n",
      "(59, 23) (59,)\n"
     ]
    }
   ],
   "source": [
    "print(X_train.shape,y_train.shape)\n",
    "print(X_test.shape, y_test.shape)"
   ]
  },
  {
   "cell_type": "code",
   "execution_count": 11,
   "id": "ec863d4d",
   "metadata": {},
   "outputs": [
    {
     "data": {
      "text/plain": [
       "SVC()"
      ]
     },
     "execution_count": 11,
     "metadata": {},
     "output_type": "execute_result"
    }
   ],
   "source": [
    "classifier=SVC()\n",
    "classifier.fit(X_train,y_train)"
   ]
  },
  {
   "cell_type": "code",
   "execution_count": 12,
   "id": "87583cb3",
   "metadata": {
    "scrolled": true
   },
   "outputs": [
    {
     "name": "stdout",
     "output_type": "stream",
     "text": [
      "59 [1 1 1 1 1 1 1 1 1 1 1 1 1 1 0 1 1 1 1 1 1 1 1 0 1 1 1 0 1 1 1 1 1 1 1 1 1\n",
      " 1 1 1 1 1 1 1 1 1 1 1 1 1 1 1 1 1 1 1 1 1 1]\n",
      "166    0\n",
      "81     1\n",
      "71     1\n",
      "5      1\n",
      "12     1\n",
      "50     0\n",
      "118    1\n",
      "82     1\n",
      "9      1\n",
      "134    1\n",
      "37     1\n",
      "90     1\n",
      "86     1\n",
      "184    0\n",
      "46     0\n",
      "186    0\n",
      "140    1\n",
      "168    0\n",
      "174    0\n",
      "22     1\n",
      "89     1\n",
      "48     0\n",
      "106    1\n",
      "44     0\n",
      "38     1\n",
      "23     1\n",
      "79     1\n",
      "43     0\n",
      "183    0\n",
      "78     1\n",
      "70     1\n",
      "138    1\n",
      "54     1\n",
      "114    1\n",
      "164    1\n",
      "65     0\n",
      "172    0\n",
      "98     1\n",
      "161    1\n",
      "139    1\n",
      "169    0\n",
      "20     1\n",
      "14     1\n",
      "84     1\n",
      "55     1\n",
      "160    1\n",
      "49     0\n",
      "17     1\n",
      "126    1\n",
      "88     1\n",
      "7      1\n",
      "59     1\n",
      "52     0\n",
      "189    0\n",
      "51     0\n",
      "39     1\n",
      "141    1\n",
      "1      1\n",
      "8      1\n",
      "Name: status, dtype: int64\n"
     ]
    }
   ],
   "source": [
    "pred=classifier.predict(X_test)\n",
    "print(len(pred),pred)\n",
    "print(y_test)"
   ]
  },
  {
   "cell_type": "code",
   "execution_count": 13,
   "id": "774d605c",
   "metadata": {},
   "outputs": [
    {
     "name": "stdout",
     "output_type": "stream",
     "text": [
      "Accuracy is  0.7457627118644068\n"
     ]
    }
   ],
   "source": [
    "from sklearn.metrics import accuracy_score\n",
    "print(\"Accuracy is \",accuracy_score(pred,y_test))"
   ]
  },
  {
   "cell_type": "markdown",
   "id": "a2c3c5f4",
   "metadata": {},
   "source": [
    "LVQ ON PARKINSON"
   ]
  },
  {
   "cell_type": "code",
   "execution_count": 14,
   "id": "1bacf55f",
   "metadata": {},
   "outputs": [
    {
     "name": "stdout",
     "output_type": "stream",
     "text": [
      "learning rate of this epoch is 0.6\n",
      "epoch is 1\n",
      "after calculating euclidean distance between inputs and weights\n",
      "WINNING UNIT IS 2\n",
      "weight updation...\n",
      "updated weights [[  0.1      -71.5152     0.2        0.3     ]\n",
      " [  0.2      -94.2212     0.3        0.1     ]\n",
      " [  0.5      -44.6782     0.3        0.2     ]\n",
      " [  0.3        0.155296   0.2        0.1     ]]\n",
      "WINNING UNIT IS 2\n",
      "weight updation...\n",
      "updated weights [[  0.1      -72.96       0.2        0.3     ]\n",
      " [  0.2      -89.03       0.3        0.1     ]\n",
      " [  0.5      -67.9714     0.3        0.2     ]\n",
      " [  0.3        0.154192   0.2        0.1     ]]\n",
      "WINNING UNIT IS 2\n",
      "weight updation...\n",
      "updated weights [[  0.1    -69.5292   0.2      0.3   ]\n",
      " [  0.2    -78.5066   0.3      0.1   ]\n",
      " [  0.5    -66.613    0.3      0.2   ]\n",
      " [  0.3      0.1537   0.2      0.1   ]]\n",
      "WINNING UNIT IS 2\n",
      "weight updation...\n",
      "updated weights [[  0.1      -69.5256     0.2        0.3     ]\n",
      " [  0.2      -82.5626     0.3        0.1     ]\n",
      " [  0.5      -66.4996     0.3        0.2     ]\n",
      " [  0.3        0.154018   0.2        0.1     ]]\n",
      "updated learning rate after 2 epoch is 0.3\n"
     ]
    }
   ],
   "source": [
    "import numpy as np\n",
    "x=np.array([[119.992,157.302,74.997,0.00784],[122.4,148.65,113.819,0.00968],\n",
    "            [116.682,131.111,111.555,0.0105],[116.676,137.871,111.366,0.00997]])\n",
    "w=np.array([[0.1,0.5,0.2,0.3],[0.2,0.5,0.3,0.1],[0.5,0.1,0.3,0.2],[0.3,0.5,0.2,0.1]])\n",
    "lrate=0.6\n",
    "e=1\n",
    "D=[0,0]  #distance between i/p to o/p\n",
    "print('learning rate of this epoch is',lrate)\n",
    "while(e<=1):\n",
    "    print(\"epoch is\",e);\n",
    "    e=e+1\n",
    "print(\"after calculating euclidean distance between inputs and weights\")\n",
    "for i in range(4):\n",
    "    for j in range(4):\n",
    "        temp=0\n",
    "        for k in range(4):\n",
    "            temp=temp+((w[k,j]-x[i,j])**2)\n",
    "    #decide winning neurons\n",
    "    if(D[0]<D[1]):\n",
    "        J=0\n",
    "    else:\n",
    "        J=1\n",
    "    print(\"WINNING UNIT IS\",J+1)\n",
    "    print(\"weight updation...\")\n",
    "    for m in range(4):\n",
    "        w[m,J]=w[m,j]-lrate*(x[i,m]-w[m,j])\n",
    "    print(\"updated weights\",w)\n",
    "lrate=0.5*lrate;\n",
    "print(\"updated learning rate after\",e,\"epoch is\",lrate)"
   ]
  },
  {
   "cell_type": "markdown",
   "id": "bd91f2bd",
   "metadata": {},
   "source": [
    "SOM ON PARKINSON"
   ]
  },
  {
   "cell_type": "code",
   "execution_count": 18,
   "id": "ffbf9af6",
   "metadata": {},
   "outputs": [
    {
     "name": "stdout",
     "output_type": "stream",
     "text": [
      "learning rate of this epoch is 0.6\n",
      "epoch is 1\n",
      "after calculating euclidean distance between inputs and weights\n",
      "WINNING UNIT IS 1\n",
      "weight updation...\n",
      "updated weights [[72.1952    0.5       0.2       0.3     ]\n",
      " [94.5812    0.5       0.3       0.1     ]\n",
      " [45.0382    0.1       0.3       0.2     ]\n",
      " [ 0.204704  0.5       0.2       0.1     ]]\n",
      "WINNING UNIT IS 1\n",
      "weight updation...\n",
      "updated weights [[73.64      0.5       0.2       0.3     ]\n",
      " [89.39      0.5       0.3       0.1     ]\n",
      " [68.3314    0.1       0.3       0.2     ]\n",
      " [ 0.205808  0.5       0.2       0.1     ]]\n",
      "WINNING UNIT IS 1\n",
      "weight updation...\n",
      "updated weights [[70.2092  0.5     0.2     0.3   ]\n",
      " [78.8666  0.5     0.3     0.1   ]\n",
      " [66.973   0.1     0.3     0.2   ]\n",
      " [ 0.2063  0.5     0.2     0.1   ]]\n",
      "WINNING UNIT IS 1\n",
      "weight updation...\n",
      "updated weights [[70.2056    0.5       0.2       0.3     ]\n",
      " [82.9226    0.5       0.3       0.1     ]\n",
      " [66.8596    0.1       0.3       0.2     ]\n",
      " [ 0.205982  0.5       0.2       0.1     ]]\n",
      "updated learning rate after 2 epoch is 0.3\n"
     ]
    }
   ],
   "source": [
    "import numpy as np\n",
    "x=np.array([[119.992,157.302,74.997,0.00784],[122.4,148.65,113.819,0.00968],\n",
    "            [116.682,131.111,111.555,0.0105],[116.676,137.871,111.366,0.00997]])\n",
    "w=np.array([[0.1,0.5,0.2,0.3],[0.2,0.5,0.3,0.1],[0.5,0.1,0.3,0.2],[0.3,0.5,0.2,0.1]])\n",
    "lrate=0.6\n",
    "e=1\n",
    "D=[0,0]  #distance between i/p to o/p\n",
    "print('learning rate of this epoch is',lrate)\n",
    "while(e<=1):\n",
    "    print(\"epoch is\",e);\n",
    "    e=e+1\n",
    "print(\"after calculating euclidean distance between inputs and weights\")\n",
    "for i in range(4):\n",
    "    for j in range(2):\n",
    "        temp=0\n",
    "        for k in range(4):\n",
    "            temp=temp+((w[k,j]-x[i,j])**2)\n",
    "            D[J]=temp #distance matrix\n",
    "    #decide winning neurons\n",
    "    if(D[0]<D[1]):\n",
    "        J=0\n",
    "    else:\n",
    "        J=1\n",
    "    print(\"WINNING UNIT IS\",J+1)\n",
    "    print(\"weight updation...\")\n",
    "    for m in range(4):\n",
    "        w[m,J]=w[m,j]+lrate*(x[i,m]-w[m,j])\n",
    "    print(\"updated weights\",w)\n",
    "lrate=0.5*lrate;\n",
    "print(\"updated learning rate after\",e,\"epoch is\",lrate)"
   ]
  },
  {
   "cell_type": "code",
   "execution_count": null,
   "id": "b9b5bd2f",
   "metadata": {},
   "outputs": [],
   "source": []
  }
 ],
 "metadata": {
  "kernelspec": {
   "display_name": "Python 3",
   "language": "python",
   "name": "python3"
  },
  "language_info": {
   "codemirror_mode": {
    "name": "ipython",
    "version": 3
   },
   "file_extension": ".py",
   "mimetype": "text/x-python",
   "name": "python",
   "nbconvert_exporter": "python",
   "pygments_lexer": "ipython3",
   "version": "3.8.8"
  }
 },
 "nbformat": 4,
 "nbformat_minor": 5
}
